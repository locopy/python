{
 "cells": [
  {
   "cell_type": "code",
   "execution_count": 10,
   "metadata": {},
   "outputs": [],
   "source": [
    "import numpy as np\n",
    "import re\n",
    "\n",
    "from bs4 import BeautifulSoup\n",
    "import requests\n",
    "\n",
    "import time\n",
    "\n",
    "import pandas as pd\n",
    "import datetime"
   ]
  },
  {
   "cell_type": "code",
   "execution_count": 11,
   "metadata": {},
   "outputs": [],
   "source": [
    "def RecupererInformationFilm(bloc_parse_film):\n",
    "    nom_film = bloc_parse_film.find('a', class_='meta-title-link', href=True).text\n",
    "    print(nom_film)\n",
    "    #<span class=\"showtimes-hour-item-value\">13:50</span>\n",
    "    heure_film = bloc_parse_film.find('span', class_='showtimes-hour-item-value').text #A convertir en date\n",
    "    #<img alt=\"Un Dollar Entre les Dents\" class=\"thumbnail-img\" src=\"//fr.web.img2.acsta.net/r_200_283/pictures/23/07/11/16/26/2685668.jpg\" width=\"160\" height=\"231\">\n",
    "    try:\n",
    "        adresse_miniature_affiche = bloc_parse_film.find('img', class_='thumbnail-img')['data-src']\n",
    "    except:\n",
    "        adresse_miniature_affiche = bloc_parse_film.find('img', class_='thumbnail-img')['src']\n",
    "    #class=\"meta-body-item meta-body-info\"\n",
    "    #annee_du_film = bloc_parse_film.find('div', class_='meta-body-item meta-body-info').find('span', class_=\"date\").text\n",
    "    #print(annee_du_film)\n",
    "    #Réalisateur(s): penser au cas où il y en aurait plusieurs\n",
    "    #Pays du film: penser au cas où il y en aurait plusieurs\n",
    "    #5 principaux acteurs\n",
    "    list_info_film = {\n",
    "        'titre': nom_film,\n",
    "        'horaire': heure_film,\n",
    "        'url_affiche': adresse_miniature_affiche\n",
    "    }\n",
    "    print(nom_film, adresse_miniature_affiche)\n",
    "    return list_info_film"
   ]
  },
  {
   "cell_type": "code",
   "execution_count": 12,
   "metadata": {},
   "outputs": [
    {
     "name": "stdout",
     "output_type": "stream",
     "text": [
      "Le Plein de super\n",
      "Le Plein de super https://fr.web.img6.acsta.net/c_160_213/medias/nmedia/18/35/24/08/18380955.jpg\n",
      "Un homme, un cheval et un pistolet\n",
      "Un homme, un cheval et un pistolet https://fr.web.img3.acsta.net/c_160_213/pictures/23/07/11/16/26/2685668.jpg\n",
      "Traitement de choc\n",
      "Traitement de choc https://fr.web.img4.acsta.net/c_160_213/medias/nmedia/18/60/11/35/18610521.jpg\n",
      "Hannah et ses soeurs\n",
      "Hannah et ses soeurs https://fr.web.img5.acsta.net/c_160_213/medias/nmedia/18/66/82/33/18981967.jpg\n",
      "Opéra\n",
      "Opéra https://fr.web.img5.acsta.net/c_160_213/pictures/23/06/13/09/20/4307983.jpg\n",
      "Brazil\n",
      "Brazil https://fr.web.img3.acsta.net/c_160_213/pictures/22/10/04/08/56/2503965.jpg\n",
      "Suspiria\n",
      "Suspiria https://fr.web.img5.acsta.net/c_160_213/medias/nmedia/18/65/20/18/18836278.jpg\n",
      "Apocalypse Now Final Cut\n",
      "Apocalypse Now Final Cut https://fr.web.img5.acsta.net/c_160_213/pictures/19/08/01/11/55/5421188.jpg\n",
      "Enter the Void\n",
      "Enter the Void https://fr.web.img5.acsta.net/c_160_213/medias/nmedia/18/66/82/37/19408122.jpg\n",
      "\n"
     ]
    }
   ],
   "source": [
    "url = 'https://www.allocine.fr/seance/salle_gen_csalle=C0071.html'\n",
    "\n",
    "#Parsing\n",
    "response = requests.get(url)\n",
    "time.sleep(5)\n",
    "soup = BeautifulSoup(response.text, 'html.parser')\n",
    "list_donnees_films_jour = soup.find_all('div', class_='card entity-card entity-card-list movie-card-theater cf hred')\n",
    "tableau_tmp = [RecupererInformationFilm(bloc) for bloc in list_donnees_films_jour]\n",
    "\n",
    "print()"
   ]
  }
 ],
 "metadata": {
  "kernelspec": {
   "display_name": "base",
   "language": "python",
   "name": "python3"
  },
  "language_info": {
   "codemirror_mode": {
    "name": "ipython",
    "version": 3
   },
   "file_extension": ".py",
   "mimetype": "text/x-python",
   "name": "python",
   "nbconvert_exporter": "python",
   "pygments_lexer": "ipython3",
   "version": "3.11.3"
  },
  "orig_nbformat": 4
 },
 "nbformat": 4,
 "nbformat_minor": 2
}
