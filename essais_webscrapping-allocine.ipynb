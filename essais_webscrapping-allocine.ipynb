{
 "cells": [
  {
   "cell_type": "code",
   "execution_count": 76,
   "metadata": {},
   "outputs": [],
   "source": [
    "import numpy as np\n",
    "import re\n",
    "\n",
    "from bs4 import BeautifulSoup\n",
    "import requests\n",
    "\n",
    "from selenium import webdriver\n",
    "from selenium.webdriver.common.by import By\n",
    "from selenium.webdriver.support.ui import WebDriverWait\n",
    "from selenium.webdriver.support import expected_conditions as EC\n",
    "from webdriver_manager.chrome import ChromeDriverManager\n",
    "from selenium.webdriver.chrome.options import Options\n",
    "\n",
    "import pandas as pd\n",
    "import datetime\n",
    "\n"
   ]
  },
  {
   "cell_type": "code",
   "execution_count": 77,
   "metadata": {},
   "outputs": [],
   "source": [
    "def CreerUrlParSalleParJour(salle, *args_jour):\n",
    "    main_url = 'https://www.allocine.fr'\n",
    "    #https://www.allocine.fr/seance/d-10/salle_gen_csalle=C0072.html\n",
    "    partie_salle = 'salle_gen_csalle=' + salle\n",
    "    full_url = ['/'.join([main_url, 'seance', 'd-' + str(jour), partie_salle]) + '.html' for jour in args_jour]\n",
    "    return full_url"
   ]
  },
  {
   "cell_type": "code",
   "execution_count": 78,
   "metadata": {},
   "outputs": [],
   "source": [
    "#Création des URLs pour les différents jours: de 0 à +10 jours\n",
    "list_code_cinema = {'Ecoles Cinéma Club': 'C0071'}\n",
    "                    #'Christine Cinéma Club': 'C0015'}\n",
    "                    #'Filmothèque du Quartier Latin': 'C0020'}\n",
    "\n",
    "def ObtenirDate(decalage):\n",
    "    date_courante = datetime.datetime.now()\n",
    "    duree = datetime.timedelta(days=int(decalage))\n",
    "    date_futur = date_courante + duree\n",
    "    return date_futur\n",
    "\n",
    "def CreationListeUrlParCineParJour(list_code_cinema, nombre_jours_max):\n",
    "    list_jour = np.arange(nombre_jours_max)\n",
    "    dic_par_cine_par_jour = {}\n",
    "    for cine, code_cine in list_code_cinema.items():\n",
    "        list_par_cine = {ObtenirDate(j) : CreerUrlParSalleParJour(code_cine, j) for j in list_jour}\n",
    "        dic_par_cine_par_jour[cine] = list_par_cine\n",
    "    return dic_par_cine_par_jour"
   ]
  },
  {
   "cell_type": "code",
   "execution_count": 79,
   "metadata": {},
   "outputs": [],
   "source": [
    "def ParsingPage(url, wait_duration = 10):\n",
    "    # Remplacez ceci par le chemin vers votre pilote de navigateur\n",
    "    options = Options()\n",
    "    options.headless = True\n",
    "    driver = webdriver.Chrome(ChromeDriverManager().install(), options=options)\n",
    "    driver.implicitly_wait(wait_duration)\n",
    "    driver.get(url)\n",
    "    soup = BeautifulSoup(driver.page_source, 'html.parser')\n",
    "    return soup"
   ]
  },
  {
   "cell_type": "code",
   "execution_count": 80,
   "metadata": {},
   "outputs": [],
   "source": [
    "def RecupererInformationFilm(bloc_parse_film, cine , date):\n",
    "    nom_film = bloc_parse_film.find('a', class_='meta-title-link', href=True).text\n",
    "    print(nom_film)\n",
    "    #<span class=\"showtimes-hour-item-value\">13:50</span>\n",
    "    heure_film = bloc_parse_film.find('span', class_='showtimes-hour-item-value').text #A convertir en date\n",
    "    #<img alt=\"Un Dollar Entre les Dents\" class=\"thumbnail-img\" src=\"//fr.web.img2.acsta.net/r_200_283/pictures/23/07/11/16/26/2685668.jpg\" width=\"160\" height=\"231\">\n",
    "    try:\n",
    "        adresse_miniature_affiche = bloc_parse_film.find('img', class_='thumbnail-img')['data-src']\n",
    "    except:\n",
    "        adresse_miniature_affiche = bloc_parse_film.find('img', class_='thumbnail-img')['src']\n",
    "    #class=\"meta-body-item meta-body-info\"\n",
    "    #annee_du_film = bloc_parse_film.find('div', class_='meta-body-item meta-body-info').find('span', class_=\"date\").text\n",
    "    #print(annee_du_film)\n",
    "    #Réalisateur(s): penser au cas où il y en aurait plusieurs\n",
    "    #Pays du film: penser au cas où il y en aurait plusieurs\n",
    "    #5 principaux acteurs\n",
    "    #Durée du film\n",
    "    pattern = r\"(\\b)(\\d)h (\\d{1,2})min\\b\"\n",
    "    duration = bloc_parse_film.find('div', class_='meta-body-item meta-body-info')\n",
    "    resultat = re.search(pattern, duration.text)\n",
    "    if resultat is not None:\n",
    "        heure_en_min = int(resultat.group(2))*60\n",
    "        minutes_total = int(resultat.group(3)) + heure_en_min\n",
    "    else:\n",
    "        minutes_total = 0\n",
    "\n",
    "    #Résumé content-txt\n",
    "    resume = bloc_parse_film.find('div', class_='content-txt').text\n",
    "    #Liens vers la page du film\n",
    "    lien_page_film = '/'.join(['https://www.allocine.fr', bloc_parse_film.find('a', class_='meta-title-link')['href']])\n",
    "    soup_film = ParsingPage(lien_page_film, 1)\n",
    "    #real = soup_film.find('div', class_='meta-body-item meta-body-direction')\n",
    "    #print(real)\n",
    "    list_info_film = {\n",
    "        'titre': nom_film,\n",
    "        'horaire': heure_film,\n",
    "        'url_affiche': adresse_miniature_affiche,\n",
    "        #'real': real,\n",
    "        'duree': minutes_total,\n",
    "        'resume': resume,\n",
    "        'cine': cine,\n",
    "        'jour': date.strftime('%d/%m/%Y')\n",
    "    }\n",
    "    return list_info_film"
   ]
  },
  {
   "cell_type": "code",
   "execution_count": 81,
   "metadata": {},
   "outputs": [],
   "source": [
    "def RecupererInformationsJourFilm(url, cine , date):\n",
    "    soup = ParsingPage(url)\n",
    "    tableau_tmp = []\n",
    "    list_donnees_films_jour = soup.find_all('div', class_='card entity-card entity-card-list movie-card-theater cf hred')\n",
    "    tableau_tmp = [RecupererInformationFilm(bloc, cine, date) for bloc in list_donnees_films_jour]\n",
    "    if False in tableau_tmp:\n",
    "        soup = ParsingPage(url)\n",
    "        list_donnees_films_jour = soup.find_all('div', class_='card entity-card entity-card-list movie-card-theater cf hred')\n",
    "        tableau_tmp = [RecupererInformationFilm(bloc, cine, date) for bloc in list_donnees_films_jour]\n",
    "    return tableau_tmp"
   ]
  },
  {
   "cell_type": "code",
   "execution_count": 82,
   "metadata": {},
   "outputs": [],
   "source": [
    "def img_tag(url):\n",
    "    url = url.lstrip('/')\n",
    "    index = url.find('http')\n",
    "    if index == -1:\n",
    "        url = \"http://\" + url\n",
    "    return f'<img src=\"{url}\" width=\"80\"/>'"
   ]
  },
  {
   "cell_type": "code",
   "execution_count": 83,
   "metadata": {},
   "outputs": [],
   "source": [
    "liste_par_cine_par_jour = CreationListeUrlParCineParJour(list_code_cinema, 1)"
   ]
  },
  {
   "cell_type": "code",
   "execution_count": 84,
   "metadata": {},
   "outputs": [
    {
     "name": "stdout",
     "output_type": "stream",
     "text": [
      "Apocalypse Now Final Cut\n",
      "Enter the Void\n"
     ]
    },
    {
     "ename": "KeyboardInterrupt",
     "evalue": "",
     "output_type": "error",
     "traceback": [
      "\u001b[0;31m---------------------------------------------------------------------------\u001b[0m",
      "\u001b[0;31mKeyboardInterrupt\u001b[0m                         Traceback (most recent call last)",
      "Cell \u001b[0;32mIn[84], line 3\u001b[0m\n\u001b[1;32m      1\u001b[0m list_complete \u001b[39m=\u001b[39m []\n\u001b[1;32m      2\u001b[0m \u001b[39mfor\u001b[39;00m elem_key, elem_value \u001b[39min\u001b[39;00m liste_par_cine_par_jour\u001b[39m.\u001b[39mitems():\n\u001b[0;32m----> 3\u001b[0m     list_complete \u001b[39m+\u001b[39m\u001b[39m=\u001b[39m [RecupererInformationsJourFilm(value[\u001b[39m0\u001b[39m], elem_key, key) \u001b[39mfor\u001b[39;00m key, value \u001b[39min\u001b[39;00m elem_value\u001b[39m.\u001b[39mitems()]\n\u001b[1;32m      4\u001b[0m \u001b[39mprint\u001b[39m(list_complete)\n",
      "Cell \u001b[0;32mIn[84], line 3\u001b[0m, in \u001b[0;36m<listcomp>\u001b[0;34m(.0)\u001b[0m\n\u001b[1;32m      1\u001b[0m list_complete \u001b[39m=\u001b[39m []\n\u001b[1;32m      2\u001b[0m \u001b[39mfor\u001b[39;00m elem_key, elem_value \u001b[39min\u001b[39;00m liste_par_cine_par_jour\u001b[39m.\u001b[39mitems():\n\u001b[0;32m----> 3\u001b[0m     list_complete \u001b[39m+\u001b[39m\u001b[39m=\u001b[39m [RecupererInformationsJourFilm(value[\u001b[39m0\u001b[39m], elem_key, key) \u001b[39mfor\u001b[39;00m key, value \u001b[39min\u001b[39;00m elem_value\u001b[39m.\u001b[39mitems()]\n\u001b[1;32m      4\u001b[0m \u001b[39mprint\u001b[39m(list_complete)\n",
      "Cell \u001b[0;32mIn[81], line 5\u001b[0m, in \u001b[0;36mRecupererInformationsJourFilm\u001b[0;34m(url, cine, date)\u001b[0m\n\u001b[1;32m      3\u001b[0m tableau_tmp \u001b[39m=\u001b[39m []\n\u001b[1;32m      4\u001b[0m list_donnees_films_jour \u001b[39m=\u001b[39m soup\u001b[39m.\u001b[39mfind_all(\u001b[39m'\u001b[39m\u001b[39mdiv\u001b[39m\u001b[39m'\u001b[39m, class_\u001b[39m=\u001b[39m\u001b[39m'\u001b[39m\u001b[39mcard entity-card entity-card-list movie-card-theater cf hred\u001b[39m\u001b[39m'\u001b[39m)\n\u001b[0;32m----> 5\u001b[0m tableau_tmp \u001b[39m=\u001b[39m [RecupererInformationFilm(bloc, cine, date) \u001b[39mfor\u001b[39;00m bloc \u001b[39min\u001b[39;00m list_donnees_films_jour]\n\u001b[1;32m      6\u001b[0m \u001b[39mif\u001b[39;00m \u001b[39mFalse\u001b[39;00m \u001b[39min\u001b[39;00m tableau_tmp:\n\u001b[1;32m      7\u001b[0m     soup \u001b[39m=\u001b[39m ParsingPage(url)\n",
      "Cell \u001b[0;32mIn[81], line 5\u001b[0m, in \u001b[0;36m<listcomp>\u001b[0;34m(.0)\u001b[0m\n\u001b[1;32m      3\u001b[0m tableau_tmp \u001b[39m=\u001b[39m []\n\u001b[1;32m      4\u001b[0m list_donnees_films_jour \u001b[39m=\u001b[39m soup\u001b[39m.\u001b[39mfind_all(\u001b[39m'\u001b[39m\u001b[39mdiv\u001b[39m\u001b[39m'\u001b[39m, class_\u001b[39m=\u001b[39m\u001b[39m'\u001b[39m\u001b[39mcard entity-card entity-card-list movie-card-theater cf hred\u001b[39m\u001b[39m'\u001b[39m)\n\u001b[0;32m----> 5\u001b[0m tableau_tmp \u001b[39m=\u001b[39m [RecupererInformationFilm(bloc, cine, date) \u001b[39mfor\u001b[39;00m bloc \u001b[39min\u001b[39;00m list_donnees_films_jour]\n\u001b[1;32m      6\u001b[0m \u001b[39mif\u001b[39;00m \u001b[39mFalse\u001b[39;00m \u001b[39min\u001b[39;00m tableau_tmp:\n\u001b[1;32m      7\u001b[0m     soup \u001b[39m=\u001b[39m ParsingPage(url)\n",
      "Cell \u001b[0;32mIn[80], line 31\u001b[0m, in \u001b[0;36mRecupererInformationFilm\u001b[0;34m(bloc_parse_film, cine, date)\u001b[0m\n\u001b[1;32m     29\u001b[0m \u001b[39m#Liens vers la page du film\u001b[39;00m\n\u001b[1;32m     30\u001b[0m lien_page_film \u001b[39m=\u001b[39m \u001b[39m'\u001b[39m\u001b[39m/\u001b[39m\u001b[39m'\u001b[39m\u001b[39m.\u001b[39mjoin([\u001b[39m'\u001b[39m\u001b[39mhttps://www.allocine.fr\u001b[39m\u001b[39m'\u001b[39m, bloc_parse_film\u001b[39m.\u001b[39mfind(\u001b[39m'\u001b[39m\u001b[39ma\u001b[39m\u001b[39m'\u001b[39m, class_\u001b[39m=\u001b[39m\u001b[39m'\u001b[39m\u001b[39mmeta-title-link\u001b[39m\u001b[39m'\u001b[39m)[\u001b[39m'\u001b[39m\u001b[39mhref\u001b[39m\u001b[39m'\u001b[39m]])\n\u001b[0;32m---> 31\u001b[0m soup_film \u001b[39m=\u001b[39m ParsingPage(lien_page_film, \u001b[39m1\u001b[39m)\n\u001b[1;32m     32\u001b[0m \u001b[39m#real = soup_film.find('div', class_='meta-body-item meta-body-direction')\u001b[39;00m\n\u001b[1;32m     33\u001b[0m \u001b[39m#print(real)\u001b[39;00m\n\u001b[1;32m     34\u001b[0m list_info_film \u001b[39m=\u001b[39m {\n\u001b[1;32m     35\u001b[0m     \u001b[39m'\u001b[39m\u001b[39mtitre\u001b[39m\u001b[39m'\u001b[39m: nom_film,\n\u001b[1;32m     36\u001b[0m     \u001b[39m'\u001b[39m\u001b[39mhoraire\u001b[39m\u001b[39m'\u001b[39m: heure_film,\n\u001b[0;32m   (...)\u001b[0m\n\u001b[1;32m     42\u001b[0m     \u001b[39m'\u001b[39m\u001b[39mjour\u001b[39m\u001b[39m'\u001b[39m: date\u001b[39m.\u001b[39mstrftime(\u001b[39m'\u001b[39m\u001b[39m%d\u001b[39;00m\u001b[39m/\u001b[39m\u001b[39m%\u001b[39m\u001b[39mm/\u001b[39m\u001b[39m%\u001b[39m\u001b[39mY\u001b[39m\u001b[39m'\u001b[39m)\n\u001b[1;32m     43\u001b[0m }\n",
      "Cell \u001b[0;32mIn[79], line 7\u001b[0m, in \u001b[0;36mParsingPage\u001b[0;34m(url, wait_duration)\u001b[0m\n\u001b[1;32m      5\u001b[0m driver \u001b[39m=\u001b[39m webdriver\u001b[39m.\u001b[39mChrome(ChromeDriverManager()\u001b[39m.\u001b[39minstall(), options\u001b[39m=\u001b[39moptions)\n\u001b[1;32m      6\u001b[0m driver\u001b[39m.\u001b[39mimplicitly_wait(wait_duration)\n\u001b[0;32m----> 7\u001b[0m driver\u001b[39m.\u001b[39mget(url)\n\u001b[1;32m      8\u001b[0m soup \u001b[39m=\u001b[39m BeautifulSoup(driver\u001b[39m.\u001b[39mpage_source, \u001b[39m'\u001b[39m\u001b[39mhtml.parser\u001b[39m\u001b[39m'\u001b[39m)\n\u001b[1;32m      9\u001b[0m \u001b[39mreturn\u001b[39;00m soup\n",
      "File \u001b[0;32m~/anaconda3/lib/python3.11/site-packages/selenium/webdriver/remote/webdriver.py:333\u001b[0m, in \u001b[0;36mWebDriver.get\u001b[0;34m(self, url)\u001b[0m\n\u001b[1;32m    329\u001b[0m \u001b[39mdef\u001b[39;00m \u001b[39mget\u001b[39m(\u001b[39mself\u001b[39m, url):\n\u001b[1;32m    330\u001b[0m \u001b[39m    \u001b[39m\u001b[39m\"\"\"\u001b[39;00m\n\u001b[1;32m    331\u001b[0m \u001b[39m    Loads a web page in the current browser session.\u001b[39;00m\n\u001b[1;32m    332\u001b[0m \u001b[39m    \"\"\"\u001b[39;00m\n\u001b[0;32m--> 333\u001b[0m     \u001b[39mself\u001b[39m\u001b[39m.\u001b[39mexecute(Command\u001b[39m.\u001b[39mGET, {\u001b[39m'\u001b[39m\u001b[39murl\u001b[39m\u001b[39m'\u001b[39m: url})\n",
      "File \u001b[0;32m~/anaconda3/lib/python3.11/site-packages/selenium/webdriver/remote/webdriver.py:319\u001b[0m, in \u001b[0;36mWebDriver.execute\u001b[0;34m(self, driver_command, params)\u001b[0m\n\u001b[1;32m    316\u001b[0m         params[\u001b[39m'\u001b[39m\u001b[39msessionId\u001b[39m\u001b[39m'\u001b[39m] \u001b[39m=\u001b[39m \u001b[39mself\u001b[39m\u001b[39m.\u001b[39msession_id\n\u001b[1;32m    318\u001b[0m params \u001b[39m=\u001b[39m \u001b[39mself\u001b[39m\u001b[39m.\u001b[39m_wrap_value(params)\n\u001b[0;32m--> 319\u001b[0m response \u001b[39m=\u001b[39m \u001b[39mself\u001b[39m\u001b[39m.\u001b[39mcommand_executor\u001b[39m.\u001b[39mexecute(driver_command, params)\n\u001b[1;32m    320\u001b[0m \u001b[39mif\u001b[39;00m response:\n\u001b[1;32m    321\u001b[0m     \u001b[39mself\u001b[39m\u001b[39m.\u001b[39merror_handler\u001b[39m.\u001b[39mcheck_response(response)\n",
      "File \u001b[0;32m~/anaconda3/lib/python3.11/site-packages/selenium/webdriver/remote/remote_connection.py:374\u001b[0m, in \u001b[0;36mRemoteConnection.execute\u001b[0;34m(self, command, params)\u001b[0m\n\u001b[1;32m    372\u001b[0m data \u001b[39m=\u001b[39m utils\u001b[39m.\u001b[39mdump_json(params)\n\u001b[1;32m    373\u001b[0m url \u001b[39m=\u001b[39m \u001b[39m'\u001b[39m\u001b[39m%s\u001b[39;00m\u001b[39m%s\u001b[39;00m\u001b[39m'\u001b[39m \u001b[39m%\u001b[39m (\u001b[39mself\u001b[39m\u001b[39m.\u001b[39m_url, path)\n\u001b[0;32m--> 374\u001b[0m \u001b[39mreturn\u001b[39;00m \u001b[39mself\u001b[39m\u001b[39m.\u001b[39m_request(command_info[\u001b[39m0\u001b[39m], url, body\u001b[39m=\u001b[39mdata)\n",
      "File \u001b[0;32m~/anaconda3/lib/python3.11/site-packages/selenium/webdriver/remote/remote_connection.py:397\u001b[0m, in \u001b[0;36mRemoteConnection._request\u001b[0;34m(self, method, url, body)\u001b[0m\n\u001b[1;32m    394\u001b[0m     body \u001b[39m=\u001b[39m \u001b[39mNone\u001b[39;00m\n\u001b[1;32m    396\u001b[0m \u001b[39mif\u001b[39;00m \u001b[39mself\u001b[39m\u001b[39m.\u001b[39mkeep_alive:\n\u001b[0;32m--> 397\u001b[0m     resp \u001b[39m=\u001b[39m \u001b[39mself\u001b[39m\u001b[39m.\u001b[39m_conn\u001b[39m.\u001b[39mrequest(method, url, body\u001b[39m=\u001b[39mbody, headers\u001b[39m=\u001b[39mheaders)\n\u001b[1;32m    399\u001b[0m     statuscode \u001b[39m=\u001b[39m resp\u001b[39m.\u001b[39mstatus\n\u001b[1;32m    400\u001b[0m \u001b[39melse\u001b[39;00m:\n",
      "File \u001b[0;32m~/anaconda3/lib/python3.11/site-packages/urllib3/request.py:78\u001b[0m, in \u001b[0;36mRequestMethods.request\u001b[0;34m(self, method, url, fields, headers, **urlopen_kw)\u001b[0m\n\u001b[1;32m     74\u001b[0m     \u001b[39mreturn\u001b[39;00m \u001b[39mself\u001b[39m\u001b[39m.\u001b[39mrequest_encode_url(\n\u001b[1;32m     75\u001b[0m         method, url, fields\u001b[39m=\u001b[39mfields, headers\u001b[39m=\u001b[39mheaders, \u001b[39m*\u001b[39m\u001b[39m*\u001b[39murlopen_kw\n\u001b[1;32m     76\u001b[0m     )\n\u001b[1;32m     77\u001b[0m \u001b[39melse\u001b[39;00m:\n\u001b[0;32m---> 78\u001b[0m     \u001b[39mreturn\u001b[39;00m \u001b[39mself\u001b[39m\u001b[39m.\u001b[39mrequest_encode_body(\n\u001b[1;32m     79\u001b[0m         method, url, fields\u001b[39m=\u001b[39mfields, headers\u001b[39m=\u001b[39mheaders, \u001b[39m*\u001b[39m\u001b[39m*\u001b[39murlopen_kw\n\u001b[1;32m     80\u001b[0m     )\n",
      "File \u001b[0;32m~/anaconda3/lib/python3.11/site-packages/urllib3/request.py:170\u001b[0m, in \u001b[0;36mRequestMethods.request_encode_body\u001b[0;34m(self, method, url, fields, headers, encode_multipart, multipart_boundary, **urlopen_kw)\u001b[0m\n\u001b[1;32m    167\u001b[0m extra_kw[\u001b[39m\"\u001b[39m\u001b[39mheaders\u001b[39m\u001b[39m\"\u001b[39m]\u001b[39m.\u001b[39mupdate(headers)\n\u001b[1;32m    168\u001b[0m extra_kw\u001b[39m.\u001b[39mupdate(urlopen_kw)\n\u001b[0;32m--> 170\u001b[0m \u001b[39mreturn\u001b[39;00m \u001b[39mself\u001b[39m\u001b[39m.\u001b[39murlopen(method, url, \u001b[39m*\u001b[39m\u001b[39m*\u001b[39mextra_kw)\n",
      "File \u001b[0;32m~/anaconda3/lib/python3.11/site-packages/urllib3/poolmanager.py:376\u001b[0m, in \u001b[0;36mPoolManager.urlopen\u001b[0;34m(self, method, url, redirect, **kw)\u001b[0m\n\u001b[1;32m    374\u001b[0m     response \u001b[39m=\u001b[39m conn\u001b[39m.\u001b[39murlopen(method, url, \u001b[39m*\u001b[39m\u001b[39m*\u001b[39mkw)\n\u001b[1;32m    375\u001b[0m \u001b[39melse\u001b[39;00m:\n\u001b[0;32m--> 376\u001b[0m     response \u001b[39m=\u001b[39m conn\u001b[39m.\u001b[39murlopen(method, u\u001b[39m.\u001b[39mrequest_uri, \u001b[39m*\u001b[39m\u001b[39m*\u001b[39mkw)\n\u001b[1;32m    378\u001b[0m redirect_location \u001b[39m=\u001b[39m redirect \u001b[39mand\u001b[39;00m response\u001b[39m.\u001b[39mget_redirect_location()\n\u001b[1;32m    379\u001b[0m \u001b[39mif\u001b[39;00m \u001b[39mnot\u001b[39;00m redirect_location:\n",
      "File \u001b[0;32m~/anaconda3/lib/python3.11/site-packages/urllib3/connectionpool.py:714\u001b[0m, in \u001b[0;36mHTTPConnectionPool.urlopen\u001b[0;34m(self, method, url, body, headers, retries, redirect, assert_same_host, timeout, pool_timeout, release_conn, chunked, body_pos, **response_kw)\u001b[0m\n\u001b[1;32m    711\u001b[0m     \u001b[39mself\u001b[39m\u001b[39m.\u001b[39m_prepare_proxy(conn)\n\u001b[1;32m    713\u001b[0m \u001b[39m# Make the request on the httplib connection object.\u001b[39;00m\n\u001b[0;32m--> 714\u001b[0m httplib_response \u001b[39m=\u001b[39m \u001b[39mself\u001b[39m\u001b[39m.\u001b[39m_make_request(\n\u001b[1;32m    715\u001b[0m     conn,\n\u001b[1;32m    716\u001b[0m     method,\n\u001b[1;32m    717\u001b[0m     url,\n\u001b[1;32m    718\u001b[0m     timeout\u001b[39m=\u001b[39mtimeout_obj,\n\u001b[1;32m    719\u001b[0m     body\u001b[39m=\u001b[39mbody,\n\u001b[1;32m    720\u001b[0m     headers\u001b[39m=\u001b[39mheaders,\n\u001b[1;32m    721\u001b[0m     chunked\u001b[39m=\u001b[39mchunked,\n\u001b[1;32m    722\u001b[0m )\n\u001b[1;32m    724\u001b[0m \u001b[39m# If we're going to release the connection in ``finally:``, then\u001b[39;00m\n\u001b[1;32m    725\u001b[0m \u001b[39m# the response doesn't need to know about the connection. Otherwise\u001b[39;00m\n\u001b[1;32m    726\u001b[0m \u001b[39m# it will also try to release it and we'll have a double-release\u001b[39;00m\n\u001b[1;32m    727\u001b[0m \u001b[39m# mess.\u001b[39;00m\n\u001b[1;32m    728\u001b[0m response_conn \u001b[39m=\u001b[39m conn \u001b[39mif\u001b[39;00m \u001b[39mnot\u001b[39;00m release_conn \u001b[39melse\u001b[39;00m \u001b[39mNone\u001b[39;00m\n",
      "File \u001b[0;32m~/anaconda3/lib/python3.11/site-packages/urllib3/connectionpool.py:466\u001b[0m, in \u001b[0;36mHTTPConnectionPool._make_request\u001b[0;34m(self, conn, method, url, timeout, chunked, **httplib_request_kw)\u001b[0m\n\u001b[1;32m    461\u001b[0m             httplib_response \u001b[39m=\u001b[39m conn\u001b[39m.\u001b[39mgetresponse()\n\u001b[1;32m    462\u001b[0m         \u001b[39mexcept\u001b[39;00m \u001b[39mBaseException\u001b[39;00m \u001b[39mas\u001b[39;00m e:\n\u001b[1;32m    463\u001b[0m             \u001b[39m# Remove the TypeError from the exception chain in\u001b[39;00m\n\u001b[1;32m    464\u001b[0m             \u001b[39m# Python 3 (including for exceptions like SystemExit).\u001b[39;00m\n\u001b[1;32m    465\u001b[0m             \u001b[39m# Otherwise it looks like a bug in the code.\u001b[39;00m\n\u001b[0;32m--> 466\u001b[0m             six\u001b[39m.\u001b[39mraise_from(e, \u001b[39mNone\u001b[39;00m)\n\u001b[1;32m    467\u001b[0m \u001b[39mexcept\u001b[39;00m (SocketTimeout, BaseSSLError, SocketError) \u001b[39mas\u001b[39;00m e:\n\u001b[1;32m    468\u001b[0m     \u001b[39mself\u001b[39m\u001b[39m.\u001b[39m_raise_timeout(err\u001b[39m=\u001b[39me, url\u001b[39m=\u001b[39murl, timeout_value\u001b[39m=\u001b[39mread_timeout)\n",
      "File \u001b[0;32m<string>:3\u001b[0m, in \u001b[0;36mraise_from\u001b[0;34m(value, from_value)\u001b[0m\n",
      "File \u001b[0;32m~/anaconda3/lib/python3.11/site-packages/urllib3/connectionpool.py:461\u001b[0m, in \u001b[0;36mHTTPConnectionPool._make_request\u001b[0;34m(self, conn, method, url, timeout, chunked, **httplib_request_kw)\u001b[0m\n\u001b[1;32m    458\u001b[0m \u001b[39mexcept\u001b[39;00m \u001b[39mTypeError\u001b[39;00m:\n\u001b[1;32m    459\u001b[0m     \u001b[39m# Python 3\u001b[39;00m\n\u001b[1;32m    460\u001b[0m     \u001b[39mtry\u001b[39;00m:\n\u001b[0;32m--> 461\u001b[0m         httplib_response \u001b[39m=\u001b[39m conn\u001b[39m.\u001b[39mgetresponse()\n\u001b[1;32m    462\u001b[0m     \u001b[39mexcept\u001b[39;00m \u001b[39mBaseException\u001b[39;00m \u001b[39mas\u001b[39;00m e:\n\u001b[1;32m    463\u001b[0m         \u001b[39m# Remove the TypeError from the exception chain in\u001b[39;00m\n\u001b[1;32m    464\u001b[0m         \u001b[39m# Python 3 (including for exceptions like SystemExit).\u001b[39;00m\n\u001b[1;32m    465\u001b[0m         \u001b[39m# Otherwise it looks like a bug in the code.\u001b[39;00m\n\u001b[1;32m    466\u001b[0m         six\u001b[39m.\u001b[39mraise_from(e, \u001b[39mNone\u001b[39;00m)\n",
      "File \u001b[0;32m~/anaconda3/lib/python3.11/http/client.py:1375\u001b[0m, in \u001b[0;36mHTTPConnection.getresponse\u001b[0;34m(self)\u001b[0m\n\u001b[1;32m   1373\u001b[0m \u001b[39mtry\u001b[39;00m:\n\u001b[1;32m   1374\u001b[0m     \u001b[39mtry\u001b[39;00m:\n\u001b[0;32m-> 1375\u001b[0m         response\u001b[39m.\u001b[39mbegin()\n\u001b[1;32m   1376\u001b[0m     \u001b[39mexcept\u001b[39;00m \u001b[39mConnectionError\u001b[39;00m:\n\u001b[1;32m   1377\u001b[0m         \u001b[39mself\u001b[39m\u001b[39m.\u001b[39mclose()\n",
      "File \u001b[0;32m~/anaconda3/lib/python3.11/http/client.py:318\u001b[0m, in \u001b[0;36mHTTPResponse.begin\u001b[0;34m(self)\u001b[0m\n\u001b[1;32m    316\u001b[0m \u001b[39m# read until we get a non-100 response\u001b[39;00m\n\u001b[1;32m    317\u001b[0m \u001b[39mwhile\u001b[39;00m \u001b[39mTrue\u001b[39;00m:\n\u001b[0;32m--> 318\u001b[0m     version, status, reason \u001b[39m=\u001b[39m \u001b[39mself\u001b[39m\u001b[39m.\u001b[39m_read_status()\n\u001b[1;32m    319\u001b[0m     \u001b[39mif\u001b[39;00m status \u001b[39m!=\u001b[39m CONTINUE:\n\u001b[1;32m    320\u001b[0m         \u001b[39mbreak\u001b[39;00m\n",
      "File \u001b[0;32m~/anaconda3/lib/python3.11/http/client.py:279\u001b[0m, in \u001b[0;36mHTTPResponse._read_status\u001b[0;34m(self)\u001b[0m\n\u001b[1;32m    278\u001b[0m \u001b[39mdef\u001b[39;00m \u001b[39m_read_status\u001b[39m(\u001b[39mself\u001b[39m):\n\u001b[0;32m--> 279\u001b[0m     line \u001b[39m=\u001b[39m \u001b[39mstr\u001b[39m(\u001b[39mself\u001b[39m\u001b[39m.\u001b[39mfp\u001b[39m.\u001b[39mreadline(_MAXLINE \u001b[39m+\u001b[39m \u001b[39m1\u001b[39m), \u001b[39m\"\u001b[39m\u001b[39miso-8859-1\u001b[39m\u001b[39m\"\u001b[39m)\n\u001b[1;32m    280\u001b[0m     \u001b[39mif\u001b[39;00m \u001b[39mlen\u001b[39m(line) \u001b[39m>\u001b[39m _MAXLINE:\n\u001b[1;32m    281\u001b[0m         \u001b[39mraise\u001b[39;00m LineTooLong(\u001b[39m\"\u001b[39m\u001b[39mstatus line\u001b[39m\u001b[39m\"\u001b[39m)\n",
      "File \u001b[0;32m~/anaconda3/lib/python3.11/socket.py:706\u001b[0m, in \u001b[0;36mSocketIO.readinto\u001b[0;34m(self, b)\u001b[0m\n\u001b[1;32m    704\u001b[0m \u001b[39mwhile\u001b[39;00m \u001b[39mTrue\u001b[39;00m:\n\u001b[1;32m    705\u001b[0m     \u001b[39mtry\u001b[39;00m:\n\u001b[0;32m--> 706\u001b[0m         \u001b[39mreturn\u001b[39;00m \u001b[39mself\u001b[39m\u001b[39m.\u001b[39m_sock\u001b[39m.\u001b[39mrecv_into(b)\n\u001b[1;32m    707\u001b[0m     \u001b[39mexcept\u001b[39;00m timeout:\n\u001b[1;32m    708\u001b[0m         \u001b[39mself\u001b[39m\u001b[39m.\u001b[39m_timeout_occurred \u001b[39m=\u001b[39m \u001b[39mTrue\u001b[39;00m\n",
      "\u001b[0;31mKeyboardInterrupt\u001b[0m: "
     ]
    }
   ],
   "source": [
    "list_complete = []\n",
    "for elem_key, elem_value in liste_par_cine_par_jour.items():\n",
    "    list_complete += [RecupererInformationsJourFilm(value[0], elem_key, key) for key, value in elem_value.items()]\n",
    "print(list_complete)"
   ]
  },
  {
   "cell_type": "code",
   "execution_count": null,
   "metadata": {},
   "outputs": [
    {
     "name": "stdout",
     "output_type": "stream",
     "text": [
      "Début\n",
      "Apocalypse Now Final Cut\n",
      "Enter the Void\n",
      "Plein soleil\n",
      "Furie au Missouri\n",
      "La Vengeance est un plat qui se mange froid\n",
      "Le Rouge est mis\n",
      "Le Loup de Wall Street\n",
      "Le Samouraï\n",
      "La collectionneuse\n",
      "Minuit à Paris\n",
      "Ténèbres\n",
      "Thelma et Louise\n",
      "Phantom of the paradise\n",
      "Citizen Kane\n",
      "Johnny Guitare\n",
      "Roberto la douceur\n",
      "Django\n",
      "Cinema Paradiso\n",
      "Le Fils du désert\n",
      "Mean Streets\n",
      "Pat Garrett et Billy le Kid\n",
      "Shining\n",
      "Blue Velvet\n",
      "2001 : l'odyssée de l'espace\n",
      "Aguirre, la colère de Dieu\n",
      "Les Sentiers de la gloire\n",
      "Les 400 coups\n",
      "À bout de souffle\n",
      "In the Mood for Love\n",
      "Vivre sa vie: Film en douze tableaux\n",
      "Ma nuit chez Maud\n",
      "Punch-Drunk Love\n",
      "Stalker\n",
      "The Grand Budapest Hotel\n"
     ]
    },
    {
     "ename": "KeyError",
     "evalue": "\"['Date'] not found in axis\"",
     "output_type": "error",
     "traceback": [
      "\u001b[0;31m---------------------------------------------------------------------------\u001b[0m",
      "\u001b[0;31mKeyError\u001b[0m                                  Traceback (most recent call last)",
      "Cell \u001b[0;32mIn[10], line 19\u001b[0m\n\u001b[1;32m     17\u001b[0m     date_header \u001b[39m=\u001b[39m \u001b[39mf\u001b[39m\u001b[39m\"\u001b[39m\u001b[39m<h2>\u001b[39m\u001b[39m{\u001b[39;00mjour\u001b[39m}\u001b[39;00m\u001b[39m</h2>\u001b[39m\u001b[39m\"\u001b[39m\n\u001b[1;32m     18\u001b[0m     \u001b[39m# Supprimer la colonne \"Date\" avant de générer le HTML pour le tableau\u001b[39;00m\n\u001b[0;32m---> 19\u001b[0m     table_html \u001b[39m=\u001b[39m group\u001b[39m.\u001b[39mdrop(columns\u001b[39m=\u001b[39m\u001b[39m'\u001b[39m\u001b[39mDate\u001b[39m\u001b[39m'\u001b[39m)\u001b[39m.\u001b[39mto_html(index\u001b[39m=\u001b[39m\u001b[39mFalse\u001b[39;00m)\n\u001b[1;32m     20\u001b[0m     final_html \u001b[39m+\u001b[39m\u001b[39m=\u001b[39m date_header \u001b[39m+\u001b[39m table_html\n\u001b[1;32m     22\u001b[0m \u001b[39m#table_html = df_cine.to_html(escape=False, index=False)\u001b[39;00m\n",
      "File \u001b[0;32m~/anaconda3/lib/python3.11/site-packages/pandas/util/_decorators.py:331\u001b[0m, in \u001b[0;36mdeprecate_nonkeyword_arguments.<locals>.decorate.<locals>.wrapper\u001b[0;34m(*args, **kwargs)\u001b[0m\n\u001b[1;32m    325\u001b[0m \u001b[39mif\u001b[39;00m \u001b[39mlen\u001b[39m(args) \u001b[39m>\u001b[39m num_allow_args:\n\u001b[1;32m    326\u001b[0m     warnings\u001b[39m.\u001b[39mwarn(\n\u001b[1;32m    327\u001b[0m         msg\u001b[39m.\u001b[39mformat(arguments\u001b[39m=\u001b[39m_format_argument_list(allow_args)),\n\u001b[1;32m    328\u001b[0m         \u001b[39mFutureWarning\u001b[39;00m,\n\u001b[1;32m    329\u001b[0m         stacklevel\u001b[39m=\u001b[39mfind_stack_level(),\n\u001b[1;32m    330\u001b[0m     )\n\u001b[0;32m--> 331\u001b[0m \u001b[39mreturn\u001b[39;00m func(\u001b[39m*\u001b[39margs, \u001b[39m*\u001b[39m\u001b[39m*\u001b[39mkwargs)\n",
      "File \u001b[0;32m~/anaconda3/lib/python3.11/site-packages/pandas/core/frame.py:5399\u001b[0m, in \u001b[0;36mDataFrame.drop\u001b[0;34m(self, labels, axis, index, columns, level, inplace, errors)\u001b[0m\n\u001b[1;32m   5251\u001b[0m \u001b[39m@deprecate_nonkeyword_arguments\u001b[39m(version\u001b[39m=\u001b[39m\u001b[39mNone\u001b[39;00m, allowed_args\u001b[39m=\u001b[39m[\u001b[39m\"\u001b[39m\u001b[39mself\u001b[39m\u001b[39m\"\u001b[39m, \u001b[39m\"\u001b[39m\u001b[39mlabels\u001b[39m\u001b[39m\"\u001b[39m])\n\u001b[1;32m   5252\u001b[0m \u001b[39mdef\u001b[39;00m \u001b[39mdrop\u001b[39m(  \u001b[39m# type: ignore[override]\u001b[39;00m\n\u001b[1;32m   5253\u001b[0m     \u001b[39mself\u001b[39m,\n\u001b[0;32m   (...)\u001b[0m\n\u001b[1;32m   5260\u001b[0m     errors: IgnoreRaise \u001b[39m=\u001b[39m \u001b[39m\"\u001b[39m\u001b[39mraise\u001b[39m\u001b[39m\"\u001b[39m,\n\u001b[1;32m   5261\u001b[0m ) \u001b[39m-\u001b[39m\u001b[39m>\u001b[39m DataFrame \u001b[39m|\u001b[39m \u001b[39mNone\u001b[39;00m:\n\u001b[1;32m   5262\u001b[0m \u001b[39m    \u001b[39m\u001b[39m\"\"\"\u001b[39;00m\n\u001b[1;32m   5263\u001b[0m \u001b[39m    Drop specified labels from rows or columns.\u001b[39;00m\n\u001b[1;32m   5264\u001b[0m \n\u001b[0;32m   (...)\u001b[0m\n\u001b[1;32m   5397\u001b[0m \u001b[39m            weight  1.0     0.8\u001b[39;00m\n\u001b[1;32m   5398\u001b[0m \u001b[39m    \"\"\"\u001b[39;00m\n\u001b[0;32m-> 5399\u001b[0m     \u001b[39mreturn\u001b[39;00m \u001b[39msuper\u001b[39m()\u001b[39m.\u001b[39mdrop(\n\u001b[1;32m   5400\u001b[0m         labels\u001b[39m=\u001b[39mlabels,\n\u001b[1;32m   5401\u001b[0m         axis\u001b[39m=\u001b[39maxis,\n\u001b[1;32m   5402\u001b[0m         index\u001b[39m=\u001b[39mindex,\n\u001b[1;32m   5403\u001b[0m         columns\u001b[39m=\u001b[39mcolumns,\n\u001b[1;32m   5404\u001b[0m         level\u001b[39m=\u001b[39mlevel,\n\u001b[1;32m   5405\u001b[0m         inplace\u001b[39m=\u001b[39minplace,\n\u001b[1;32m   5406\u001b[0m         errors\u001b[39m=\u001b[39merrors,\n\u001b[1;32m   5407\u001b[0m     )\n",
      "File \u001b[0;32m~/anaconda3/lib/python3.11/site-packages/pandas/util/_decorators.py:331\u001b[0m, in \u001b[0;36mdeprecate_nonkeyword_arguments.<locals>.decorate.<locals>.wrapper\u001b[0;34m(*args, **kwargs)\u001b[0m\n\u001b[1;32m    325\u001b[0m \u001b[39mif\u001b[39;00m \u001b[39mlen\u001b[39m(args) \u001b[39m>\u001b[39m num_allow_args:\n\u001b[1;32m    326\u001b[0m     warnings\u001b[39m.\u001b[39mwarn(\n\u001b[1;32m    327\u001b[0m         msg\u001b[39m.\u001b[39mformat(arguments\u001b[39m=\u001b[39m_format_argument_list(allow_args)),\n\u001b[1;32m    328\u001b[0m         \u001b[39mFutureWarning\u001b[39;00m,\n\u001b[1;32m    329\u001b[0m         stacklevel\u001b[39m=\u001b[39mfind_stack_level(),\n\u001b[1;32m    330\u001b[0m     )\n\u001b[0;32m--> 331\u001b[0m \u001b[39mreturn\u001b[39;00m func(\u001b[39m*\u001b[39margs, \u001b[39m*\u001b[39m\u001b[39m*\u001b[39mkwargs)\n",
      "File \u001b[0;32m~/anaconda3/lib/python3.11/site-packages/pandas/core/generic.py:4505\u001b[0m, in \u001b[0;36mNDFrame.drop\u001b[0;34m(self, labels, axis, index, columns, level, inplace, errors)\u001b[0m\n\u001b[1;32m   4503\u001b[0m \u001b[39mfor\u001b[39;00m axis, labels \u001b[39min\u001b[39;00m axes\u001b[39m.\u001b[39mitems():\n\u001b[1;32m   4504\u001b[0m     \u001b[39mif\u001b[39;00m labels \u001b[39mis\u001b[39;00m \u001b[39mnot\u001b[39;00m \u001b[39mNone\u001b[39;00m:\n\u001b[0;32m-> 4505\u001b[0m         obj \u001b[39m=\u001b[39m obj\u001b[39m.\u001b[39m_drop_axis(labels, axis, level\u001b[39m=\u001b[39mlevel, errors\u001b[39m=\u001b[39merrors)\n\u001b[1;32m   4507\u001b[0m \u001b[39mif\u001b[39;00m inplace:\n\u001b[1;32m   4508\u001b[0m     \u001b[39mself\u001b[39m\u001b[39m.\u001b[39m_update_inplace(obj)\n",
      "File \u001b[0;32m~/anaconda3/lib/python3.11/site-packages/pandas/core/generic.py:4546\u001b[0m, in \u001b[0;36mNDFrame._drop_axis\u001b[0;34m(self, labels, axis, level, errors, only_slice)\u001b[0m\n\u001b[1;32m   4544\u001b[0m         new_axis \u001b[39m=\u001b[39m axis\u001b[39m.\u001b[39mdrop(labels, level\u001b[39m=\u001b[39mlevel, errors\u001b[39m=\u001b[39merrors)\n\u001b[1;32m   4545\u001b[0m     \u001b[39melse\u001b[39;00m:\n\u001b[0;32m-> 4546\u001b[0m         new_axis \u001b[39m=\u001b[39m axis\u001b[39m.\u001b[39mdrop(labels, errors\u001b[39m=\u001b[39merrors)\n\u001b[1;32m   4547\u001b[0m     indexer \u001b[39m=\u001b[39m axis\u001b[39m.\u001b[39mget_indexer(new_axis)\n\u001b[1;32m   4549\u001b[0m \u001b[39m# Case for non-unique axis\u001b[39;00m\n\u001b[1;32m   4550\u001b[0m \u001b[39melse\u001b[39;00m:\n",
      "File \u001b[0;32m~/anaconda3/lib/python3.11/site-packages/pandas/core/indexes/base.py:6934\u001b[0m, in \u001b[0;36mIndex.drop\u001b[0;34m(self, labels, errors)\u001b[0m\n\u001b[1;32m   6932\u001b[0m \u001b[39mif\u001b[39;00m mask\u001b[39m.\u001b[39many():\n\u001b[1;32m   6933\u001b[0m     \u001b[39mif\u001b[39;00m errors \u001b[39m!=\u001b[39m \u001b[39m\"\u001b[39m\u001b[39mignore\u001b[39m\u001b[39m\"\u001b[39m:\n\u001b[0;32m-> 6934\u001b[0m         \u001b[39mraise\u001b[39;00m \u001b[39mKeyError\u001b[39;00m(\u001b[39mf\u001b[39m\u001b[39m\"\u001b[39m\u001b[39m{\u001b[39;00m\u001b[39mlist\u001b[39m(labels[mask])\u001b[39m}\u001b[39;00m\u001b[39m not found in axis\u001b[39m\u001b[39m\"\u001b[39m)\n\u001b[1;32m   6935\u001b[0m     indexer \u001b[39m=\u001b[39m indexer[\u001b[39m~\u001b[39mmask]\n\u001b[1;32m   6936\u001b[0m \u001b[39mreturn\u001b[39;00m \u001b[39mself\u001b[39m\u001b[39m.\u001b[39mdelete(indexer)\n",
      "\u001b[0;31mKeyError\u001b[0m: \"['Date'] not found in axis\""
     ]
    }
   ],
   "source": [
    "from itertools import chain\n",
    "\n",
    "print('Début')\n",
    "liste_par_cine_par_jour = CreationListeUrlParCineParJour(list_code_cinema, 1)\n",
    "\n",
    "list_complete = []\n",
    "for elem_key, elem_value in liste_par_cine_par_jour.items():\n",
    "    list_complete += [RecupererInformationsJourFilm(value[0], elem_key, key) for key, value in elem_value.items()]\n",
    "\n",
    "\n"
   ]
  },
  {
   "cell_type": "code",
   "execution_count": null,
   "metadata": {},
   "outputs": [
    {
     "name": "stdout",
     "output_type": "stream",
     "text": [
      "Fin\n"
     ]
    }
   ],
   "source": [
    "liste_1d = list(chain(*list_complete))\n",
    "df_cine = pd.DataFrame(liste_1d)\n",
    "df_cine['url_affiche'] = df_cine['url_affiche'].apply(img_tag)\n",
    "df_cine.sort_values(by='jour', inplace=True)\n",
    "\n",
    "final_html = ''\n",
    "for jour, group in df_cine.groupby('jour'):\n",
    "    date_header = f\"<h2>{jour}</h2>\"\n",
    "    # Supprimer la colonne \"Date\" avant de générer le HTML pour le tableau\n",
    "    table_html = group.drop(columns='jour').sort_values(by='horaire').to_html(escape=False, index=False)\n",
    "    final_html += date_header + table_html\n",
    "\n",
    "#table_html = df_cine.to_html(escape=False, index=False)\n",
    "\n",
    "with open('test2.html', 'w') as file_out:\n",
    "    file_out.write(final_html)\n",
    "\n",
    "print('Fin')"
   ]
  },
  {
   "cell_type": "code",
   "execution_count": 90,
   "metadata": {},
   "outputs": [
    {
     "name": "stdout",
     "output_type": "stream",
     "text": [
      "\n",
      "René Clément\n"
     ]
    }
   ],
   "source": [
    "#test nom real\n",
    "url_film = 'https://www.allocine.fr/film/fichefilm_gen_cfilm=4916.html'\n",
    "soup_film = ParsingPage(url_film, 1)\n",
    "real = soup_film.find('div', class_='meta-body-item meta-body-direction')\n",
    "print()\n",
    "real_2 = real.find('a', class_='xXx blue-link').text\n",
    "print(real_2)"
   ]
  },
  {
   "cell_type": "code",
   "execution_count": 91,
   "metadata": {},
   "outputs": [
    {
     "name": "stdout",
     "output_type": "stream",
     "text": [
      "['Alain Delon', 'Marie Laforêt', 'Maurice Ronet']\n"
     ]
    }
   ],
   "source": [
    "acteurs = soup_film.find('div', class_='meta-body-item meta-body-actor')\n",
    "acteurs_2 = acteurs.find_all('a', class_='xXx')\n",
    "tableau_acteur = [act.text for act in acteurs_2]\n",
    "print(tableau_acteur)"
   ]
  },
  {
   "cell_type": "code",
   "execution_count": 103,
   "metadata": {},
   "outputs": [
    {
     "name": "stdout",
     "output_type": "stream",
     "text": [
      "<section class=\"section casting-actor\">\n",
      "<div class=\"titlebar\"><h2 class=\"titlebar-title titlebar-title-md\">Acteurs et actrices</h2></div>\n",
      "<div class=\"gd gd-gap-15 gd-xs-2 gd-s-4\">\n",
      "<div class=\"card person-card person-card-col\">\n",
      "<figure class=\"thumbnail\">\n",
      "<a class=\"xXx thumbnail-container thumbnail-link\" href=\"/personne/fichepersonne_gen_cpersonne=1920.html\" title=\"Alain Delon\">\n",
      "<img alt=\"Alain Delon\" class=\"thumbnail-img\" data-src=\"https://fr.web.img6.acsta.net/c_162_216/pictures/19/05/20/14/06/2943212.jpg\" height=\"216\" src=\"data:image/gif;base64,R0lGODlhAwAEAIAAAAAAAAAAACH5BAEAAAAALAAAAAADAAQAAAIDhI9WADs=\" width=\"162\"/>\n",
      "</a>\n",
      "</figure>\n",
      "<div class=\"meta\">\n",
      "<div class=\"meta-title\">\n",
      "<a class=\"meta-title-link\" href=\"/personne/fichepersonne_gen_cpersonne=1920.html\">Alain Delon</a>\n",
      "</div>\n",
      "<div class=\"meta-sub light\">\n",
      "Rôle : Tom Ripley\n",
      "</div>\n",
      "</div>\n",
      "</div>\n",
      "<div class=\"card person-card person-card-col\">\n",
      "<figure class=\"thumbnail\">\n",
      "<a class=\"xXx thumbnail-container thumbnail-link\" href=\"/personne/fichepersonne_gen_cpersonne=104.html\" title=\"Marie Laforêt\">\n",
      "<img alt=\"Marie Laforêt\" class=\"thumbnail-img\" data-src=\"https://fr.web.img6.acsta.net/c_162_216/medias/nmedia/18/35/52/21/18971359.jpg\" height=\"216\" src=\"data:image/gif;base64,R0lGODlhAwAEAIAAAAAAAAAAACH5BAEAAAAALAAAAAADAAQAAAIDhI9WADs=\" width=\"162\"/>\n",
      "</a>\n",
      "</figure>\n",
      "<div class=\"meta\">\n",
      "<div class=\"meta-title\">\n",
      "<a class=\"meta-title-link\" href=\"/personne/fichepersonne_gen_cpersonne=104.html\">Marie Laforêt</a>\n",
      "</div>\n",
      "<div class=\"meta-sub light\">\n",
      "Rôle : Marge Duval\n",
      "</div>\n",
      "</div>\n",
      "</div>\n",
      "<div class=\"card person-card person-card-col\">\n",
      "<figure class=\"thumbnail\">\n",
      "<a class=\"xXx thumbnail-container thumbnail-link\" href=\"/personne/fichepersonne_gen_cpersonne=397.html\" title=\"Maurice Ronet\">\n",
      "<img alt=\"Maurice Ronet\" class=\"thumbnail-img\" data-src=\"https://fr.web.img2.acsta.net/c_162_216/pictures/210/126/21012681_2013061509100124.jpg\" height=\"216\" src=\"data:image/gif;base64,R0lGODlhAwAEAIAAAAAAAAAAACH5BAEAAAAALAAAAAADAAQAAAIDhI9WADs=\" width=\"162\"/>\n",
      "</a>\n",
      "</figure>\n",
      "<div class=\"meta\">\n",
      "<div class=\"meta-title\">\n",
      "<a class=\"meta-title-link\" href=\"/personne/fichepersonne_gen_cpersonne=397.html\">Maurice Ronet</a>\n",
      "</div>\n",
      "<div class=\"meta-sub light\">\n",
      "Rôle : Philippe Greenleaf\n",
      "</div>\n",
      "</div>\n",
      "</div>\n",
      "<div class=\"card person-card person-card-col\">\n",
      "<figure class=\"thumbnail\">\n",
      "<a class=\"xXx thumbnail-container thumbnail-link\" href=\"/personne/fichepersonne_gen_cpersonne=11552.html\" title=\"Erno Crisa\">\n",
      "<img alt=\"Erno Crisa\" class=\"thumbnail-img\" data-src=\"https://fr.web.img3.acsta.net/c_162_216/commons/v9/common/empty/empty_portrait.png\" height=\"216\" src=\"data:image/gif;base64,R0lGODlhAwAEAIAAAAAAAAAAACH5BAEAAAAALAAAAAADAAQAAAIDhI9WADs=\" width=\"162\"/>\n",
      "</a>\n",
      "</figure>\n",
      "<div class=\"meta\">\n",
      "<div class=\"meta-title\">\n",
      "<a class=\"meta-title-link\" href=\"/personne/fichepersonne_gen_cpersonne=11552.html\">Erno Crisa</a>\n",
      "</div>\n",
      "<div class=\"meta-sub light\">\n",
      "Rôle : Riccordi\n",
      "</div>\n",
      "</div>\n",
      "</div>\n",
      "<div class=\"card person-card person-card-col\">\n",
      "<figure class=\"thumbnail\">\n",
      "<a class=\"xXx thumbnail-container thumbnail-link\" href=\"/personne/fichepersonne_gen_cpersonne=2723.html\" title=\"Elvire Popesco\">\n",
      "<img alt=\"Elvire Popesco\" class=\"thumbnail-img\" data-src=\"https://fr.web.img3.acsta.net/c_162_216/commons/v9/common/empty/empty_portrait.png\" height=\"216\" src=\"data:image/gif;base64,R0lGODlhAwAEAIAAAAAAAAAAACH5BAEAAAAALAAAAAADAAQAAAIDhI9WADs=\" width=\"162\"/>\n",
      "</a>\n",
      "</figure>\n",
      "<div class=\"meta\">\n",
      "<div class=\"meta-title\">\n",
      "<a class=\"meta-title-link\" href=\"/personne/fichepersonne_gen_cpersonne=2723.html\">Elvire Popesco</a>\n",
      "</div>\n",
      "<div class=\"meta-sub light\">\n",
      "Rôle : Mme Popova\n",
      "</div>\n",
      "</div>\n",
      "</div>\n",
      "<div class=\"card person-card person-card-col\">\n",
      "<figure class=\"thumbnail\">\n",
      "<a class=\"xXx thumbnail-container thumbnail-link\" href=\"/personne/fichepersonne_gen_cpersonne=64965.html\" title=\"Frank Latimore\">\n",
      "<img alt=\"Frank Latimore\" class=\"thumbnail-img\" data-src=\"https://fr.web.img3.acsta.net/c_162_216/commons/v9/common/empty/empty_portrait.png\" height=\"216\" src=\"data:image/gif;base64,R0lGODlhAwAEAIAAAAAAAAAAACH5BAEAAAAALAAAAAADAAQAAAIDhI9WADs=\" width=\"162\"/>\n",
      "</a>\n",
      "</figure>\n",
      "<div class=\"meta\">\n",
      "<div class=\"meta-title\">\n",
      "<a class=\"meta-title-link\" href=\"/personne/fichepersonne_gen_cpersonne=64965.html\">Frank Latimore</a>\n",
      "</div>\n",
      "<div class=\"meta-sub light\">\n",
      "Rôle : O'Brien\n",
      "</div>\n",
      "</div>\n",
      "</div>\n",
      "<div class=\"card person-card person-card-col\">\n",
      "<figure class=\"thumbnail\">\n",
      "<a class=\"xXx thumbnail-container thumbnail-link\" href=\"/personne/fichepersonne_gen_cpersonne=58190.html\" title=\"Billy Kearns\">\n",
      "<img alt=\"Billy Kearns\" class=\"thumbnail-img\" data-src=\"https://fr.web.img3.acsta.net/c_162_216/commons/v9/common/empty/empty_portrait.png\" height=\"216\" src=\"data:image/gif;base64,R0lGODlhAwAEAIAAAAAAAAAAACH5BAEAAAAALAAAAAADAAQAAAIDhI9WADs=\" width=\"162\"/>\n",
      "</a>\n",
      "</figure>\n",
      "<div class=\"meta\">\n",
      "<div class=\"meta-title\">\n",
      "<a class=\"meta-title-link\" href=\"/personne/fichepersonne_gen_cpersonne=58190.html\">Billy Kearns</a>\n",
      "</div>\n",
      "<div class=\"meta-sub light\">\n",
      "Rôle : Freddy Miles\n",
      "</div>\n",
      "</div>\n",
      "</div>\n",
      "<div class=\"card person-card person-card-col\">\n",
      "<figure class=\"thumbnail\">\n",
      "<a class=\"xXx thumbnail-container thumbnail-link\" href=\"/personne/fichepersonne_gen_cpersonne=785.html\" title=\"Romy Schneider\">\n",
      "<img alt=\"Romy Schneider\" class=\"thumbnail-img\" data-src=\"https://fr.web.img6.acsta.net/c_162_216/medias/nmedia/18/35/48/41/18971376.jpg\" height=\"216\" src=\"data:image/gif;base64,R0lGODlhAwAEAIAAAAAAAAAAACH5BAEAAAAALAAAAAADAAQAAAIDhI9WADs=\" width=\"162\"/>\n",
      "</a>\n",
      "</figure>\n",
      "<div class=\"meta\">\n",
      "<div class=\"meta-title\">\n",
      "<a class=\"meta-title-link\" href=\"/personne/fichepersonne_gen_cpersonne=785.html\">Romy Schneider</a>\n",
      "</div>\n",
      "<div class=\"meta-sub light\">\n",
      "Rôle : L'amie de Freddy\n",
      "</div>\n",
      "</div>\n",
      "</div>\n",
      "</div>\n",
      "<div class=\"gd gd-xs-1 gd-s-2 md-table-row\">\n",
      "<span class=\"item light\">Signora Gianna</span>\n",
      "<a class=\"item link\" href=\"/personne/fichepersonne_gen_cpersonne=11116.html\" title=\"Ave Ninchi\">Ave Ninchi</a>\n",
      "</div>\n",
      "<div class=\"gd gd-xs-1 gd-s-2 md-table-row\">\n",
      "<span class=\"item light\">Boris</span>\n",
      "<a class=\"item link\" href=\"/personne/fichepersonne_gen_cpersonne=473746.html\" title=\"Nicolas Petrov\">Nicolas Petrov</a>\n",
      "</div>\n",
      "<div class=\"gd gd-xs-1 gd-s-2 md-table-row\">\n",
      "<span class=\"item light\">La dame belge</span>\n",
      "<a class=\"item link\" href=\"/personne/fichepersonne_gen_cpersonne=415555.html\" title=\"Viviane Chantel\">Viviane Chantel</a>\n",
      "</div>\n",
      "</section>\n"
     ]
    }
   ],
   "source": [
    "#test nom real\n",
    "url_film = 'https://www.allocine.fr/film/fichefilm-4916/casting/'\n",
    "soup_film = ParsingPage(url_film, 1)\n",
    "real = soup_film.find('section', class_='section casting-actor')\n",
    "print(real)\n",
    "\n",
    "\n"
   ]
  },
  {
   "cell_type": "code",
   "execution_count": 104,
   "metadata": {},
   "outputs": [
    {
     "name": "stdout",
     "output_type": "stream",
     "text": [
      "<class 'bs4.element.Tag'>\n",
      "['Alain Delon', 'Marie Laforêt', 'Maurice Ronet', 'Erno Crisa', 'Elvire Popesco', 'Frank Latimore', 'Billy Kearns', 'Romy Schneider']\n"
     ]
    }
   ],
   "source": [
    "print(type(real))\n",
    "real_inter = real.find_all('a', class_=\"meta-title-link\")\n",
    "real_2 = [name_dir.text for name_dir in real_inter]\n",
    "print(real_2)"
   ]
  },
  {
   "cell_type": "code",
   "execution_count": 102,
   "metadata": {},
   "outputs": [
    {
     "name": "stdout",
     "output_type": "stream",
     "text": [
      "https://www.allocine.fr/film/fichefilm-4916/casting/\n"
     ]
    }
   ],
   "source": [
    "url = \"https://www.allocine.fr/film/fichefilm_gen_cfilm=4916.html\"\n",
    "\n",
    "pattern = r\"(?<=gen_cfilm=)\\d+(?=\\.html)\"\n",
    "match = re.search(pattern, url)\n",
    "\n",
    "if match:\n",
    "    film_id = match.group(0)\n",
    "    url_casting = 'https://www.allocine.fr/film/fichefilm-' + film_id.strip() + '/casting/'\n",
    "    print(url_casting)\n",
    "else:\n",
    "    print(\"Pas de correspondance trouvée.\")"
   ]
  }
 ],
 "metadata": {
  "kernelspec": {
   "display_name": "base",
   "language": "python",
   "name": "python3"
  },
  "language_info": {
   "codemirror_mode": {
    "name": "ipython",
    "version": 3
   },
   "file_extension": ".py",
   "mimetype": "text/x-python",
   "name": "python",
   "nbconvert_exporter": "python",
   "pygments_lexer": "ipython3",
   "version": "3.11.3"
  },
  "orig_nbformat": 4,
  "vscode": {
   "interpreter": {
    "hash": "185cd6d12444f41e4f7368e3e26218182e3855052b55d6c62edea30c490c1606"
   }
  }
 },
 "nbformat": 4,
 "nbformat_minor": 2
}
